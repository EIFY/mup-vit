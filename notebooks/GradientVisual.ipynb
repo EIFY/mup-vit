{
  "nbformat": 4,
  "nbformat_minor": 0,
  "metadata": {
    "colab": {
      "provenance": []
    },
    "kernelspec": {
      "name": "python3",
      "display_name": "Python 3"
    },
    "language_info": {
      "name": "python"
    }
  },
  "cells": [
    {
      "cell_type": "code",
      "execution_count": null,
      "metadata": {
        "id": "99NhDXLp8paJ"
      },
      "outputs": [],
      "source": [
        "import collections\n",
        "tf_counter = collections.Counter({(0, 0, 0): 1822737431,\n",
        "         (255, 255, 255): 1842426210,\n",
        "         (128, 128, 128): 714368785,\n",
        "         (220, 220, 220): 10689714,\n",
        "         (127, 127, 127): 56486751,\n",
        "         (110, 110, 110): 197108571,\n",
        "         (145, 145, 145): 19794432,\n",
        "         (164, 164, 164): 49428,\n",
        "         (155, 155, 155): 167247,\n",
        "         (146, 146, 146): 50574,\n",
        "         (137, 137, 137): 64224,\n",
        "         (92, 92, 92): 49388,\n",
        "         (101, 101, 101): 169829,\n",
        "         (119, 119, 119): 64157,\n",
        "         (240, 240, 240): 218237258,\n",
        "         (173, 173, 173): 473,\n",
        "         (84, 84, 84): 478,\n",
        "         (66, 66, 66): 27916988,\n",
        "         (32, 32, 32): 9959936,\n",
        "         (192, 192, 192): 2956576,\n",
        "         (96, 96, 96): 10010112,\n",
        "         (243, 243, 243): 28654651,\n",
        "         (188, 188, 188): 3111760,\n",
        "         (80, 80, 80): 492480,\n",
        "         (70, 70, 70): 6840,\n",
        "         (15, 15, 15): 19869696,\n",
        "         (209, 209, 209): 10171364,\n",
        "         (98, 98, 98): 17449600,\n",
        "         (187, 187, 187): 2626400,\n",
        "         (213, 213, 213): 54800,\n",
        "         (201, 201, 201): 48400,\n",
        "         (215, 215, 215): 57587,\n",
        "         (198, 198, 198): 447600,\n",
        "         (199, 199, 199): 306080,\n",
        "         (197, 197, 197): 147200,\n",
        "         (218, 218, 218): 36105,\n",
        "         (225, 225, 225): 26197,\n",
        "         (204, 204, 204): 45520,\n",
        "         (222, 222, 222): 35710,\n",
        "         (196, 196, 196): 19200,\n",
        "         (207, 207, 207): 72520,\n",
        "         (219, 219, 219): 47589,\n",
        "         (216, 216, 216): 17484,\n",
        "         (202, 202, 202): 47840,\n",
        "         (224, 224, 224): 26880,\n",
        "         (227, 227, 227): 9220,\n",
        "         (208, 208, 208): 37280,\n",
        "         (214, 214, 214): 40204,\n",
        "         (232, 232, 232): 2583,\n",
        "         (200, 200, 200): 44640,\n",
        "         (212, 212, 212): 19200,\n",
        "         (221, 221, 221): 26341,\n",
        "         (229, 229, 229): 2695,\n",
        "         (211, 211, 211): 58227,\n",
        "         (205, 205, 205): 27600,\n",
        "         (203, 203, 203): 35120,\n",
        "         (230, 230, 230): 5547,\n",
        "         (210, 210, 210): 39620,\n",
        "         (233, 233, 233): 9389,\n",
        "         (226, 226, 226): 12044,\n",
        "         (234, 234, 234): 4460,\n",
        "         (217, 217, 217): 24355,\n",
        "         (223, 223, 223): 30243,\n",
        "         (228, 228, 228): 9355,\n",
        "         (206, 206, 206): 27280,\n",
        "         (231, 231, 231): 2668,\n",
        "         (239, 239, 239): 1806,\n",
        "         (237, 237, 237): 2058})"
      ]
    },
    {
      "cell_type": "code",
      "source": [
        "def gradient_value(c, granularity = 224 ** 2):\n",
        "  out = []\n",
        "  n = c.total() // granularity\n",
        "  i = 0\n",
        "  while len(out) < n:\n",
        "    count = 0\n",
        "    total = 0\n",
        "    while count < granularity:\n",
        "      diff = min(c[i, i, i], granularity - count)\n",
        "      count += diff\n",
        "      total += i * diff\n",
        "      c[i, i, i] -= diff\n",
        "      if not c[i, i, i]:\n",
        "        i += 1\n",
        "    out.append(total / count)\n",
        "  return out\n",
        "\n",
        "gradient = gradient_value(collections.Counter(tf_counter), 112 ** 2)"
      ],
      "metadata": {
        "id": "hzdYzrVZ9bFb"
      },
      "execution_count": null,
      "outputs": []
    },
    {
      "cell_type": "code",
      "source": [
        "len(gradient)"
      ],
      "metadata": {
        "colab": {
          "base_uri": "https://localhost:8080/"
        },
        "id": "Hn_7EIk59dvU",
        "outputId": "9d8b189a-7b10-4f84-d561-5ab2b3c68319"
      },
      "execution_count": null,
      "outputs": [
        {
          "output_type": "execute_result",
          "data": {
            "text/plain": [
              "400000"
            ]
          },
          "metadata": {},
          "execution_count": 3
        }
      ]
    },
    {
      "cell_type": "code",
      "source": [
        "col = 200\n",
        "b = [gradient[i:i + col] for i in range(0, len(gradient), col)]\n",
        "b = list(zip(*b))"
      ],
      "metadata": {
        "id": "3vQSEgck__PC"
      },
      "execution_count": null,
      "outputs": []
    },
    {
      "cell_type": "code",
      "source": [
        "len(b)"
      ],
      "metadata": {
        "colab": {
          "base_uri": "https://localhost:8080/"
        },
        "id": "b9qqUm58ApHu",
        "outputId": "4241e0ff-d8b3-43c5-f9c4-10ac9eb649e5"
      },
      "execution_count": null,
      "outputs": [
        {
          "output_type": "execute_result",
          "data": {
            "text/plain": [
              "200"
            ]
          },
          "metadata": {},
          "execution_count": 5
        }
      ]
    },
    {
      "cell_type": "code",
      "source": [
        "len(b[0])"
      ],
      "metadata": {
        "colab": {
          "base_uri": "https://localhost:8080/"
        },
        "id": "gUztNFZ-BHvQ",
        "outputId": "19f2e77c-71a7-44e5-b933-bf73ff264927"
      },
      "execution_count": null,
      "outputs": [
        {
          "output_type": "execute_result",
          "data": {
            "text/plain": [
              "2000"
            ]
          },
          "metadata": {},
          "execution_count": 6
        }
      ]
    },
    {
      "cell_type": "code",
      "source": [
        "from PIL import Image\n",
        "import numpy as np\n",
        "Image.fromarray(np.array(b)).convert('L')"
      ],
      "metadata": {
        "colab": {
          "base_uri": "https://localhost:8080/",
          "height": 177
        },
        "id": "okC3TU2OBRhG",
        "outputId": "1e8f6b20-4893-41b1-b886-a9a634cc1456"
      },
      "execution_count": null,
      "outputs": [
        {
          "output_type": "execute_result",
          "data": {
            "text/plain": [
              "<PIL.Image.Image image mode=L size=2000x200>"
            ],
            "image/png": "[encoded data removed]"
          },
          "metadata": {},
          "execution_count": 7
        }
      ]
    },
    {
      "cell_type": "code",
      "source": [
        "torch_mid_fill_counter = collections.Counter({(128, 128, 128): 283712442,\n",
        "         (0, 0, 0): 2490944591,\n",
        "         (255, 255, 255): 1358923850,\n",
        "         (127, 127, 127): 11714748,\n",
        "         (38, 38, 38): 114028300,\n",
        "         (216, 216, 216): 107856960,\n",
        "         (17, 17, 17): 6362113,\n",
        "         (237, 237, 237): 5572814,\n",
        "         (23, 23, 23): 183391,\n",
        "         (231, 231, 231): 4664861,\n",
        "         (254, 254, 254): 364276458,\n",
        "         (236, 236, 236): 1017360,\n",
        "         (230, 230, 230): 14130,\n",
        "         (178, 178, 178): 112517216,\n",
        "         (89, 89, 89): 5880312,\n",
        "         (1, 1, 1): 19587968,\n",
        "         (246, 246, 246): 133196,\n",
        "         (136, 136, 136): 129836,\n",
        "         (234, 234, 234): 3406,\n",
        "         (131, 131, 131): 33660,\n",
        "         (20, 20, 20): 3441,\n",
        "         (125, 125, 125): 33707,\n",
        "         (8, 8, 8): 133406,\n",
        "         (119, 119, 119): 261794,\n",
        "         (37, 37, 37): 19169012,\n",
        "         (5, 5, 5): 105687,\n",
        "         (243, 243, 243): 110932,\n",
        "         (252, 252, 252): 16866,\n",
        "         (249, 249, 249): 108333,\n",
        "         (133, 133, 133): 1316,\n",
        "         (122, 122, 122): 29351,\n",
        "         (116, 116, 116): 25790,\n",
        "         (11, 11, 11): 4368340,\n",
        "         (2, 2, 2): 207308,\n",
        "         (14, 14, 14): 512,\n",
        "         (134, 134, 134): 28082,\n",
        "         (228, 228, 228): 170288,\n",
        "         (139, 139, 139): 25790,\n",
        "         (26, 26, 26): 5871104,\n",
        "         (240, 240, 240): 512,\n",
        "         (225, 225, 225): 1865,\n",
        "         (29, 29, 29): 4098,\n",
        "         (39, 39, 39): 6096384,\n",
        "         (191, 191, 191): 7406784,\n",
        "         (166, 166, 166): 5779704,\n",
        "         (16, 16, 16): 530460,\n",
        "         (22, 22, 22): 170604,\n",
        "         (137, 137, 137): 131300,\n",
        "         (221, 221, 221): 2007780,\n",
        "         (177, 177, 177): 11716096,\n",
        "         (232, 232, 232): 1258866,\n",
        "         (12, 12, 12): 160704,\n",
        "         (165, 165, 165): 308448,\n",
        "         (161, 161, 161): 4284,\n",
        "         (18, 18, 18): 298080,\n",
        "         (24, 24, 24): 4140,\n",
        "         (190, 190, 190): 164592,\n",
        "         (194, 194, 194): 2286,\n",
        "         (77, 77, 77): 6573056,\n",
        "         (215, 215, 215): 12769792,\n",
        "         (242, 242, 242): 4114432,\n",
        "         (25, 25, 25): 169776,\n",
        "         (21, 21, 21): 2358,\n",
        "         (204, 204, 204): 3537408,\n",
        "         (151, 151, 151): 5870592,\n",
        "         (244, 244, 244): 342954,\n",
        "         (31, 31, 31): 150336,\n",
        "         (222, 222, 222): 150336,\n",
        "         (253, 253, 253): 10104704,\n",
        "         (41, 41, 41): 2088,\n",
        "         (212, 212, 212): 2088,\n",
        "         (217, 217, 217): 6471664,\n",
        "         (50, 50, 50): 154224,\n",
        "         (203, 203, 203): 321408,\n",
        "         (54, 54, 54): 4464,\n",
        "         (199, 199, 199): 4464,\n",
        "         (64, 64, 64): 2935296,\n",
        "         (189, 189, 189): 2935296,\n",
        "         (251, 251, 251): 190512,\n",
        "         (4, 4, 4): 2646,\n",
        "         (49, 49, 49): 3227920,\n",
        "         (124, 124, 124): 3286528})"
      ],
      "metadata": {
        "id": "78MLfba2Bblm"
      },
      "execution_count": null,
      "outputs": []
    },
    {
      "cell_type": "code",
      "source": [
        "gradient = gradient_value(collections.Counter(torch_mid_fill_counter), 112 ** 2)\n",
        "b = [gradient[i:i + col] for i in range(0, len(gradient), col)]\n",
        "b = list(zip(*b))\n",
        "Image.fromarray(np.array(b)).convert('L')"
      ],
      "metadata": {
        "colab": {
          "base_uri": "https://localhost:8080/",
          "height": 177
        },
        "id": "RZYlrYB_B-KY",
        "outputId": "f6a2b4bc-a4ad-4137-e080-70460b0a9494"
      },
      "execution_count": null,
      "outputs": [
        {
          "output_type": "execute_result",
          "data": {
            "text/plain": [
              "<PIL.Image.Image image mode=L size=2000x200>"
            ],
            "image/png": "[encoded data removed]"
          },
          "metadata": {},
          "execution_count": 9
        }
      ]
    },
    {
      "cell_type": "code",
      "source": [
        "torch_counter = collections.Counter({(0, 0, 0): 2805231902,\n",
        "         (255, 255, 255): 1358486472,\n",
        "         (254, 254, 254): 365481466,\n",
        "         (177, 177, 177): 12819968,\n",
        "         (178, 178, 178): 114701526,\n",
        "         (38, 38, 38): 88778956,\n",
        "         (216, 216, 216): 83030036,\n",
        "         (17, 17, 17): 6524954,\n",
        "         (237, 237, 237): 5644633,\n",
        "         (23, 23, 23): 190534,\n",
        "         (231, 231, 231): 3600734,\n",
        "         (35, 35, 35): 14253876,\n",
        "         (214, 214, 214): 6256320,\n",
        "         (25, 25, 25): 202176,\n",
        "         (228, 228, 228): 202176,\n",
        "         (21, 21, 21): 2808,\n",
        "         (232, 232, 232): 2808,\n",
        "         (26, 26, 26): 6447616,\n",
        "         (151, 151, 151): 6447616,\n",
        "         (32, 32, 32): 13442128,\n",
        "         (210, 210, 210): 9990064,\n",
        "         (49, 49, 49): 3310128,\n",
        "         (2, 2, 2): 185022,\n",
        "         (251, 251, 251): 182736,\n",
        "         (4, 4, 4): 2538,\n",
        "         (249, 249, 249): 102429,\n",
        "         (236, 236, 236): 1110672,\n",
        "         (230, 230, 230): 15426,\n",
        "         (1, 1, 1): 19626784,\n",
        "         (124, 124, 124): 2634240,\n",
        "         (5, 5, 5): 104423,\n",
        "         (243, 243, 243): 104138,\n",
        "         (11, 11, 11): 3418332,\n",
        "         (225, 225, 225): 5584,\n",
        "         (29, 29, 29): 4313,\n",
        "         (190, 190, 190): 164592,\n",
        "         (194, 194, 194): 2286,\n",
        "         (31, 31, 31): 164592,\n",
        "         (222, 222, 222): 164592,\n",
        "         (253, 253, 253): 9240352,\n",
        "         (252, 252, 252): 2286,\n",
        "         (41, 41, 41): 2286,\n",
        "         (212, 212, 212): 2286,\n",
        "         (203, 203, 203): 317520,\n",
        "         (54, 54, 54): 4410,\n",
        "         (199, 199, 199): 4410,\n",
        "         (18, 18, 18): 301968,\n",
        "         (24, 24, 24): 4194,\n",
        "         (242, 242, 242): 3161088,\n",
        "         (36, 36, 36): 6923448,\n",
        "         (215, 215, 215): 20497736,\n",
        "         (37, 37, 37): 14074368,\n",
        "         (16, 16, 16): 534384,\n",
        "         (22, 22, 22): 191394,\n",
        "         (165, 165, 165): 311040,\n",
        "         (161, 161, 161): 4320,\n",
        "         (12, 12, 12): 160704,\n",
        "         (219, 219, 219): 474,\n",
        "         (213, 213, 213): 6183436,\n",
        "         (39, 39, 39): 5745152,\n",
        "         (50, 50, 50): 168480,\n",
        "         (64, 64, 64): 3035648,\n",
        "         (189, 189, 189): 3035648,\n",
        "         (77, 77, 77): 6547968,\n",
        "         (244, 244, 244): 365292,\n",
        "         (204, 204, 204): 3738112})"
      ],
      "metadata": {
        "id": "zz2YHVH8C-bM"
      },
      "execution_count": null,
      "outputs": []
    },
    {
      "cell_type": "code",
      "source": [
        "gradient = gradient_value(collections.Counter(torch_counter), 112 ** 2)\n",
        "b = [gradient[i:i + col] for i in range(0, len(gradient), col)]\n",
        "b = list(zip(*b))\n",
        "Image.fromarray(np.array(b)).convert('L')"
      ],
      "metadata": {
        "colab": {
          "base_uri": "https://localhost:8080/",
          "height": 177
        },
        "id": "kMzkpoA6F230",
        "outputId": "c3344053-b580-414b-8f27-d2b6190bd543"
      },
      "execution_count": null,
      "outputs": [
        {
          "output_type": "execute_result",
          "data": {
            "text/plain": [
              "<PIL.Image.Image image mode=L size=2000x200>"
            ],
            "image/png": "[encoded data removed]"
          },
          "metadata": {},
          "execution_count": 11
        }
      ]
    },
    {
      "cell_type": "code",
      "source": [
        "row = [0] * 56 + [1] * 56\n",
        "row *= 2\n",
        "row = [255 * b for b in row]\n",
        "tile = [row for _ in range(56)]\n",
        "anti_row = [255 - b for b in row]\n",
        "anti_tile = [anti_row for _ in range(56)]\n",
        "tile.extend(anti_tile)\n",
        "tile *= 2\n",
        "\n",
        "Image.fromarray(np.array(tile, dtype=np.uint8))"
      ],
      "metadata": {
        "colab": {
          "base_uri": "https://localhost:8080/",
          "height": 241
        },
        "id": "_Ymsa52aF5bE",
        "outputId": "411d09fd-2f7d-43b9-a0bc-30d1f591416e"
      },
      "execution_count": null,
      "outputs": [
        {
          "output_type": "execute_result",
          "data": {
            "text/plain": [
              "<PIL.Image.Image image mode=L size=224x224>"
            ],
            "image/png": "[encoded data removed]"
          },
          "metadata": {},
          "execution_count": 12
        }
      ]
    },
    {
      "cell_type": "code",
      "source": [
        "import matplotlib.pyplot as plt\n",
        "import torch\n",
        "\n",
        "torch_tile = torch.Tensor([tile] * 3).to(torch.uint8)\n",
        "plt.imshow(torch_tile.permute(1, 2, 0))"
      ],
      "metadata": {
        "id": "J3TqFx4yHivU",
        "colab": {
          "base_uri": "https://localhost:8080/",
          "height": 452
        },
        "outputId": "893498b6-2fe4-4a47-c677-8a1c4e099c5f"
      },
      "execution_count": null,
      "outputs": [
        {
          "output_type": "execute_result",
          "data": {
            "text/plain": [
              "<matplotlib.image.AxesImage at 0x7cdbb890bb80>"
            ]
          },
          "metadata": {},
          "execution_count": 14
        },
        {
          "output_type": "display_data",
          "data": {
            "text/plain": [
              "<Figure size 640x480 with 1 Axes>"
            ],
            "image/png": "[encoded data removed]"
          },
          "metadata": {}
        }
      ]
    },
    {
      "cell_type": "code",
      "source": [
        "from torchvision.transforms import v2\n",
        "\n",
        "import math\n",
        "from typing import Any, Callable, cast, Dict, List, Optional, Tuple, Type, Union\n",
        "\n",
        "import PIL.Image\n",
        "import torch\n",
        "\n",
        "from torch.utils._pytree import tree_flatten, tree_unflatten, TreeSpec\n",
        "from torchvision import transforms as _transforms, tv_tensors\n",
        "from torchvision.transforms import _functional_tensor as _FT\n",
        "from torchvision.transforms.v2 import AutoAugmentPolicy, functional as F, InterpolationMode, Transform\n",
        "from torchvision.transforms.v2.functional._geometry import _check_interpolation\n",
        "from torchvision.transforms.v2.functional._meta import get_size\n",
        "from torchvision.transforms.v2.functional._utils import _FillType, _FillTypeJIT\n",
        "\n",
        "from torchvision.transforms.v2._utils import _get_fill, _setup_fill_arg, check_type, is_pure_tensor\n",
        "\n",
        "ImageOrVideo = Union[torch.Tensor, PIL.Image.Image, tv_tensors.Image, tv_tensors.Video]\n",
        "\n",
        "\n",
        "def _solarize_add(\n",
        "    image: ImageOrVideo, addition: int = 0, threshold: int = 128\n",
        ") -> ImageOrVideo:\n",
        "    bound = _FT._max_value(image.dtype) if isinstance(image, torch.Tensor) else 255\n",
        "    added_image = image.to(torch.int64) + addition\n",
        "    added_image = added_image.clip(0, bound).to(torch.uint8)\n",
        "    return torch.where(image < threshold, added_image, image)\n",
        "\n",
        "\n",
        "def _cutout(\n",
        "    image: ImageOrVideo,\n",
        "    pad_size: int,\n",
        "    replace: int = 0,\n",
        ") -> ImageOrVideo:\n",
        "    _, img_h, img_w = F.get_dimensions(image)\n",
        "\n",
        "    # Sample the center location in the image where the zero mask will be applied.\n",
        "    cutout_center_height = int(torch.randint(img_h, ()))\n",
        "    cutout_center_width = int(torch.randint(img_w, ()))\n",
        "\n",
        "    lower_pad = max(0, cutout_center_height - pad_size)\n",
        "    upper_pad = max(0, img_h - cutout_center_height - pad_size)\n",
        "    left_pad = max(0, cutout_center_width - pad_size)\n",
        "    right_pad = max(0, img_w - cutout_center_width - pad_size)\n",
        "\n",
        "    cutout_shape = [img_h - (lower_pad + upper_pad), img_w - (left_pad + right_pad)]\n",
        "    return F.erase(image, lower_pad, left_pad, cutout_shape[0], cutout_shape[1], torch.tensor(replace).unsqueeze(1).unsqueeze(1))\n",
        "\n",
        "\n",
        "class RandAugment17(v2.RandAugment):\n",
        "    def _apply_image_or_video_transform(\n",
        "        self,\n",
        "        image: ImageOrVideo,\n",
        "        transform_id: str,\n",
        "        magnitude: float,\n",
        "        interpolation: Union[InterpolationMode, int],\n",
        "        fill: Dict[Union[Type, str], _FillTypeJIT],\n",
        "    ) -> ImageOrVideo:\n",
        "        # Note: this cast is wrong and is only here to make mypy happy (it disagrees with torchscript)\n",
        "        image = cast(torch.Tensor, image)\n",
        "        fill_ = _get_fill(fill, type(image))\n",
        "\n",
        "        if transform_id == \"Identity\":\n",
        "            return image\n",
        "        elif transform_id == \"ShearX\":\n",
        "            # magnitude should be arctan(magnitude)\n",
        "            # official autoaug: (1, level, 0, 0, 1, 0)\n",
        "            # https://github.com/tensorflow/models/blob/dd02069717128186b88afa8d857ce57d17957f03/research/autoaugment/augmentation_transforms.py#L290\n",
        "            # compared to\n",
        "            # torchvision:      (1, tan(level), 0, 0, 1, 0)\n",
        "            # https://github.com/pytorch/vision/blob/0c2373d0bba3499e95776e7936e207d8a1676e65/torchvision/transforms/functional.py#L976\n",
        "            return F.affine(\n",
        "                image,\n",
        "                angle=0.0,\n",
        "                translate=[0, 0],\n",
        "                scale=1.0,\n",
        "                shear=[math.degrees(math.atan(magnitude)), 0.0],\n",
        "                interpolation=interpolation,\n",
        "                fill=fill_,\n",
        "                center=[0, 0],\n",
        "            )\n",
        "        elif transform_id == \"ShearY\":\n",
        "            # magnitude should be arctan(magnitude)\n",
        "            # See above\n",
        "            return F.affine(\n",
        "                image,\n",
        "                angle=0.0,\n",
        "                translate=[0, 0],\n",
        "                scale=1.0,\n",
        "                shear=[0.0, math.degrees(math.atan(magnitude))],\n",
        "                interpolation=interpolation,\n",
        "                fill=fill_,\n",
        "                center=[0, 0],\n",
        "            )\n",
        "        elif transform_id == \"TranslateX\":\n",
        "            return F.affine(\n",
        "                image,\n",
        "                angle=0.0,\n",
        "                translate=[int(magnitude), 0],\n",
        "                scale=1.0,\n",
        "                interpolation=interpolation,\n",
        "                shear=[0.0, 0.0],\n",
        "                fill=fill_,\n",
        "            )\n",
        "        elif transform_id == \"TranslateY\":\n",
        "            return F.affine(\n",
        "                image,\n",
        "                angle=0.0,\n",
        "                translate=[0, int(magnitude)],\n",
        "                scale=1.0,\n",
        "                interpolation=interpolation,\n",
        "                shear=[0.0, 0.0],\n",
        "                fill=fill_,\n",
        "            )\n",
        "        elif transform_id == \"Rotate\":\n",
        "            return F.rotate(image, angle=magnitude, interpolation=interpolation, fill=fill_)\n",
        "        elif transform_id == \"Brightness\":\n",
        "            return F.adjust_brightness(image, brightness_factor=1.0 + magnitude)\n",
        "        elif transform_id == \"Color\":\n",
        "            return F.adjust_saturation(image, saturation_factor=1.0 + magnitude)\n",
        "        elif transform_id == \"Contrast\":\n",
        "            return F.adjust_contrast(image, contrast_factor=1.0 + magnitude)\n",
        "        elif transform_id == \"Sharpness\":\n",
        "            return F.adjust_sharpness(image, sharpness_factor=1.0 + magnitude)\n",
        "        elif transform_id == \"Posterize\":\n",
        "            return F.posterize(image, bits=int(magnitude))\n",
        "        elif transform_id == \"Solarize\":\n",
        "            bound = _FT._max_value(image.dtype) if isinstance(image, torch.Tensor) else 255.0\n",
        "            return F.solarize(image, threshold=bound * magnitude)\n",
        "        elif transform_id == \"AutoContrast\":\n",
        "            return F.autocontrast(image)\n",
        "        elif transform_id == \"Equalize\":\n",
        "            return F.equalize(image)\n",
        "        elif transform_id == \"Invert\":\n",
        "            return F.invert(image)\n",
        "        elif transform_id == \"SolarizeAdd\":\n",
        "            return _solarize_add(image, addition=int(magnitude))\n",
        "        elif transform_id == \"Cutout\":\n",
        "            return _cutout(image, pad_size=int(magnitude), replace=fill_)\n",
        "        else:\n",
        "            raise ValueError(f\"No transform available for {transform_id}\")\n",
        "\n",
        "\n",
        "cutout_const = 40\n",
        "translate_const = 100\n",
        "MAX_LEVEL = 10\n",
        "\n",
        "translate_magnitude = lambda num_bins, _h, _w: torch.linspace(0.0, translate_const, num_bins)\n",
        "shear_magnitude = lambda num_bins, _h, _w: torch.linspace(0.0, 0.3, num_bins)\n",
        "enhance_magnitude = lambda num_bins, _h, _w: torch.linspace(0, 0.9, num_bins)  # It was -0.9, 0.9 but negative magnitude results in the opposite effect\n",
        "\n",
        "RandAugment17._AUGMENTATION_SPACE = {\n",
        "    \"TranslateX\": (translate_magnitude, True),\n",
        "    \"TranslateY\": (translate_magnitude, True),\n",
        "    \"ShearX\": (shear_magnitude, True),\n",
        "    \"ShearY\": (shear_magnitude, True),\n",
        "    \"Rotate\": (lambda num_bins, height, width: torch.linspace(0.0, 30.0, num_bins), True),\n",
        "    \"Brightness\": (enhance_magnitude, False),\n",
        "    \"Color\": (enhance_magnitude, False),\n",
        "    \"Contrast\": (enhance_magnitude, False),\n",
        "    \"Sharpness\": (enhance_magnitude, False),\n",
        "    \"Posterize\": (  # Unchanged!\n",
        "        lambda num_bins, height, width: (8 - (torch.arange(num_bins) / ((num_bins - 1) / 4))).round().int(),\n",
        "        False,\n",
        "    ),\n",
        "    \"Solarize\": (lambda num_bins, height, width: torch.linspace(1.0, 0.0, num_bins), False),  # Unchanged!\n",
        "    \"AutoContrast\": (lambda num_bins, height, width: None, False),  # Unchanged!\n",
        "    \"Equalize\": (lambda num_bins, height, width: None, False),  # Unchanged!\n",
        "    \"Invert\": (lambda num_bins, height, width: None, False),  # \"New\" (equivalent to MAX_LEVEL Solarize)!\n",
        "    \"SolarizeAdd\": (lambda num_bins, height, width: torch.linspace(0., 110., num_bins), False),  # New!\n",
        "    \"Cutout\": (lambda num_bins, height, width: torch.linspace(0., float(cutout_const), num_bins), False),  # New!\n",
        "    # https://github.com/pytorch/vision/pull/6609\n",
        "}\n",
        "transform = RandAugment17(2, 10, num_magnitude_bins=MAX_LEVEL + 1, fill=[128] * 3)"
      ],
      "metadata": {
        "id": "9c3puogDanEG"
      },
      "execution_count": null,
      "outputs": []
    },
    {
      "cell_type": "code",
      "source": [
        "import tqdm\n",
        "N = 100000\n",
        "torch_counter = collections.Counter()\n",
        "for _ in tqdm.tqdm(range(N)):\n",
        "  out = transform(torch_tile)\n",
        "  torch_counter.update(tuple(pixel) for row in out.permute(1, 2, 0).numpy() for pixel in row)"
      ],
      "metadata": {
        "colab": {
          "base_uri": "https://localhost:8080/"
        },
        "id": "EkdqLWq-at4N",
        "outputId": "555eac15-3d65-4d70-e068-bff25f41fa6e"
      },
      "execution_count": null,
      "outputs": [
        {
          "output_type": "stream",
          "name": "stderr",
          "text": [
            "100%|██████████| 100000/100000 [2:26:22<00:00, 11.39it/s]\n"
          ]
        }
      ]
    },
    {
      "cell_type": "code",
      "source": [
        "torch_counter"
      ],
      "metadata": {
        "colab": {
          "base_uri": "https://localhost:8080/"
        },
        "id": "gVER_I7TbCEU",
        "outputId": "d497d3da-746b-4306-be4b-bffae39412b5"
      },
      "execution_count": null,
      "outputs": [
        {
          "output_type": "execute_result",
          "data": {
            "text/plain": [
              "Counter({(0, 0, 0): 1822396240,\n",
              "         (255, 255, 255): 1823964221,\n",
              "         (190, 190, 190): 2889984,\n",
              "         (128, 128, 128): 739457791,\n",
              "         (198, 198, 198): 543920,\n",
              "         (125, 125, 125): 3190558,\n",
              "         (127, 127, 127): 56406167,\n",
              "         (110, 110, 110): 195534762,\n",
              "         (240, 240, 240): 214896165,\n",
              "         (145, 145, 145): 19869696,\n",
              "         (187, 187, 187): 3145868,\n",
              "         (243, 243, 243): 30150259,\n",
              "         (220, 220, 220): 9935125,\n",
              "         (130, 130, 130): 297840,\n",
              "         (101, 101, 101): 173303,\n",
              "         (119, 119, 119): 63610,\n",
              "         (137, 137, 137): 63646,\n",
              "         (155, 155, 155): 171799,\n",
              "         (254, 254, 254): 18916352,\n",
              "         (98, 98, 98): 17136000,\n",
              "         (146, 146, 146): 50787,\n",
              "         (163, 163, 163): 48868,\n",
              "         (92, 92, 92): 48847,\n",
              "         (209, 209, 209): 9077003,\n",
              "         (96, 96, 96): 10135552,\n",
              "         (132, 132, 132): 2797246,\n",
              "         (83, 83, 83): 481,\n",
              "         (172, 172, 172): 484,\n",
              "         (188, 188, 188): 2778080,\n",
              "         (15, 15, 15): 20973568,\n",
              "         (45, 45, 45): 9533440,\n",
              "         (80, 80, 80): 457488,\n",
              "         (69, 69, 69): 6354,\n",
              "         (201, 201, 201): 66800,\n",
              "         (216, 216, 216): 63987,\n",
              "         (197, 197, 197): 172800,\n",
              "         (199, 199, 199): 376240,\n",
              "         (131, 131, 131): 186720,\n",
              "         (129, 129, 129): 326320,\n",
              "         (133, 133, 133): 33098,\n",
              "         (219, 219, 219): 32029,\n",
              "         (204, 204, 204): 45520,\n",
              "         (205, 205, 205): 38664,\n",
              "         (203, 203, 203): 46720,\n",
              "         (225, 225, 225): 13481,\n",
              "         (215, 215, 215): 61520,\n",
              "         (223, 223, 223): 31120,\n",
              "         (217, 217, 217): 41231,\n",
              "         (126, 126, 126): 222572,\n",
              "         (123, 123, 123): 27703,\n",
              "         (210, 210, 210): 73329,\n",
              "         (124, 124, 124): 33390,\n",
              "         (196, 196, 196): 12800,\n",
              "         (229, 229, 229): 8528,\n",
              "         (213, 213, 213): 36772,\n",
              "         (206, 206, 206): 38480,\n",
              "         (212, 212, 212): 33043,\n",
              "         (135, 135, 135): 8455,\n",
              "         (207, 207, 207): 36960,\n",
              "         (221, 221, 221): 33533,\n",
              "         (211, 211, 211): 19600,\n",
              "         (200, 200, 200): 146080,\n",
              "         (134, 134, 134): 18174,\n",
              "         (226, 226, 226): 19331,\n",
              "         (227, 227, 227): 3200,\n",
              "         (222, 222, 222): 36683,\n",
              "         (208, 208, 208): 26435,\n",
              "         (232, 232, 232): 5172,\n",
              "         (228, 228, 228): 3015,\n",
              "         (214, 214, 214): 27040,\n",
              "         (122, 122, 122): 8144,\n",
              "         (202, 202, 202): 29840,\n",
              "         (218, 218, 218): 12480,\n",
              "         (234, 234, 234): 4593,\n",
              "         (233, 233, 233): 4628,\n",
              "         (230, 230, 230): 5082,\n",
              "         (224, 224, 224): 17184})"
            ]
          },
          "metadata": {},
          "execution_count": 18
        }
      ]
    },
    {
      "cell_type": "code",
      "source": [
        "gradient = gradient_value(collections.Counter(torch_counter), 112 ** 2)\n",
        "b = [gradient[i:i + col] for i in range(0, len(gradient), col)]\n",
        "b = list(zip(*b))\n",
        "Image.fromarray(np.array(b)).convert('L')"
      ],
      "metadata": {
        "colab": {
          "base_uri": "https://localhost:8080/",
          "height": 177
        },
        "id": "I9wh5bgF8nhu",
        "outputId": "d92555fb-c0bd-4db4-d275-c428397cfb76"
      },
      "execution_count": null,
      "outputs": [
        {
          "output_type": "execute_result",
          "data": {
            "text/plain": [
              "<PIL.Image.Image image mode=L size=2000x200>"
            ],
            "image/png": "[encoded data removed]"
          },
          "metadata": {},
          "execution_count": 19
        }
      ]
    },
    {
      "cell_type": "code",
      "source": [],
      "metadata": {
        "id": "KF6AEmfW8s6H"
      },
      "execution_count": null,
      "outputs": []
    }
  ]
}