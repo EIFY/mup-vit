{
 "cells": [
  {
   "cell_type": "code",
   "execution_count": 1,
   "id": "9cca3157-217c-4543-9016-a1578223e9bf",
   "metadata": {},
   "outputs": [
    {
     "name": "stderr",
     "output_type": "stream",
     "text": [
      "2024-12-19 17:36:30.471046: I tensorflow/core/util/port.cc:113] oneDNN custom operations are on. You may see slightly different numerical results due to floating-point round-off errors from different computation orders. To turn them off, set the environment variable `TF_ENABLE_ONEDNN_OPTS=0`.\n",
      "2024-12-19 17:36:30.496585: E external/local_xla/xla/stream_executor/cuda/cuda_dnn.cc:9261] Unable to register cuDNN factory: Attempting to register factory for plugin cuDNN when one has already been registered\n",
      "2024-12-19 17:36:30.496602: E external/local_xla/xla/stream_executor/cuda/cuda_fft.cc:607] Unable to register cuFFT factory: Attempting to register factory for plugin cuFFT when one has already been registered\n",
      "2024-12-19 17:36:30.497285: E external/local_xla/xla/stream_executor/cuda/cuda_blas.cc:1515] Unable to register cuBLAS factory: Attempting to register factory for plugin cuBLAS when one has already been registered\n",
      "2024-12-19 17:36:30.501871: I tensorflow/core/platform/cpu_feature_guard.cc:182] This TensorFlow binary is optimized to use available CPU instructions in performance-critical operations.\n",
      "To enable the following instructions: AVX2 AVX512F AVX512_VNNI FMA, in other operations, rebuild TensorFlow with the appropriate compiler flags.\n",
      "2024-12-19 17:36:31.062435: W tensorflow/compiler/tf2tensorrt/utils/py_utils.cc:38] TF-TRT Warning: Could not find TensorRT\n"
     ]
    }
   ],
   "source": [
    "import tensorflow_datasets as tfds\n",
    "import tensorflow as tf"
   ]
  },
  {
   "cell_type": "code",
   "execution_count": 3,
   "id": "81b3332a-0fc9-4f44-bedd-fb9372c34ceb",
   "metadata": {},
   "outputs": [],
   "source": [
    "@tfds.decode.make_decoder()\n",
    "def _decode(image, _):\n",
    "    return tf.image.decode_jpeg(image, channels=3, dct_method='INTEGER_ACCURATE')    \n",
    "\n",
    "tfds_precise = tfds.load('imagenet2012', split='validation', decoders={'image': _decode()})"
   ]
  },
  {
   "cell_type": "code",
   "execution_count": 4,
   "id": "67a876d8-a446-4d12-8bc7-ececc5ca8b8c",
   "metadata": {},
   "outputs": [],
   "source": [
    "import torchvision\n",
    "torchvision_default = torchvision.datasets.ImageNet('/data/ImageNet/', split='val')"
   ]
  },
  {
   "cell_type": "code",
   "execution_count": 5,
   "id": "f5f625be-8ca6-4285-9fb5-bcadcef80b45",
   "metadata": {},
   "outputs": [],
   "source": [
    "img_dict = {path.split('/')[-1]: i for i, (path, _) in enumerate(torchvision_default.imgs)}"
   ]
  },
  {
   "cell_type": "code",
   "execution_count": 6,
   "id": "30536056-16c7-4287-973d-62683cb55e46",
   "metadata": {},
   "outputs": [],
   "source": [
    "from torchvision.transforms import v2"
   ]
  },
  {
   "cell_type": "code",
   "execution_count": 10,
   "id": "63e597d7-6c82-4fa7-b139-a8b826fc949e",
   "metadata": {},
   "outputs": [],
   "source": [
    "result = []\n",
    "to_image = v2.ToImage()\n",
    "\n",
    "import numpy as np\n",
    "\n",
    "def normalized_l2_difference(tf_img, tv_img, factor=2/255):\n",
    "    h, w, _ = tf_img.shape\n",
    "    x = tf.transpose(tf_img, perm=[2, 0, 1]).numpy()\n",
    "    y = tv_img.numpy()\n",
    "    x, y = np.float64(x), np.float64(y)\n",
    "    diff = x - y\n",
    "    sq = (diff ** 2).sum() / h / w\n",
    "    return np.sqrt(sq) * factor\n",
    "\n",
    "for data in tfds_precise:\n",
    "    tf_img = data['image']\n",
    "    filename = data['file_name']\n",
    "    index = img_dict[filename.numpy().decode('ascii')]\n",
    "    tv_img = to_image(torchvision_default[index][0])\n",
    "    result.append(normalized_l2_difference(tf_img, tv_img))"
   ]
  },
  {
   "cell_type": "code",
   "execution_count": 13,
   "id": "3f836554-4946-42d2-99ca-ceed1f76252f",
   "metadata": {},
   "outputs": [
    {
     "name": "stdout",
     "output_type": "stream",
     "text": [
      "50000\n",
      "True\n",
      "[0.009118303175637983]\n"
     ]
    }
   ],
   "source": [
    "print(len(result))\n",
    "print(any(result))\n",
    "print([x for x in result if x])"
   ]
  },
  {
   "cell_type": "code",
   "execution_count": 14,
   "id": "5c626de6-8664-4617-9c33-2e3888f8979b",
   "metadata": {},
   "outputs": [],
   "source": [
    "tfds_default = tfds.load('imagenet2012', split='validation')"
   ]
  },
  {
   "cell_type": "code",
   "execution_count": 15,
   "id": "aad5542b-1567-4db0-8fb0-44ea07eafc50",
   "metadata": {},
   "outputs": [],
   "source": [
    "result = []\n",
    "for data in tfds_default:\n",
    "    tf_img = data['image']\n",
    "    filename = data['file_name']\n",
    "    index = img_dict[filename.numpy().decode('ascii')]\n",
    "    tv_img = to_image(torchvision_default[index][0])\n",
    "    result.append(normalized_l2_difference(tf_img, tv_img))"
   ]
  },
  {
   "cell_type": "code",
   "execution_count": 16,
   "id": "33e3f700-df24-476e-b59f-f8895294d534",
   "metadata": {},
   "outputs": [
    {
     "data": {
      "text/plain": [
       "dtype('float64')"
      ]
     },
     "execution_count": 16,
     "metadata": {},
     "output_type": "execute_result"
    }
   ],
   "source": [
    "default = np.array(result)\n",
    "default.dtype"
   ]
  },
  {
   "cell_type": "code",
   "execution_count": 17,
   "id": "d42e246e-356a-4ef3-ae9d-f3d0bb96551a",
   "metadata": {},
   "outputs": [],
   "source": [
    "USER = '** redacted **'\n",
    "\n",
    "filename = f\"/home/{USER}/Downloads/default-imagenet-ds-diff\"\n",
    "np.save(filename, default)"
   ]
  },
  {
   "cell_type": "code",
   "execution_count": 19,
   "id": "6a5ab670-d8ff-429a-b4f7-6313884943a4",
   "metadata": {},
   "outputs": [],
   "source": [
    "# Just the necessary parts of Big Vision\n",
    "def _resize_factor(image, factor, method=\"area\", antialias=True):\n",
    "  \"\"\"Resizes the image by a (float) `factor`, keeping the aspect ratio fixed.\"\"\"\n",
    "  h, w = tf.shape(image)[0], tf.shape(image)[1]\n",
    "\n",
    "  h = tf.cast(tf.round(tf.cast(h, tf.float32) * factor), tf.int32)\n",
    "  w = tf.cast(tf.round(tf.cast(w, tf.float32) * factor), tf.int32)\n",
    "\n",
    "  dtype = image.dtype\n",
    "  tf_dtype = tf.type_spec_from_value(image).dtype\n",
    "  image = tf.image.resize(image, (h, w), method=method, antialias=antialias)\n",
    "  return tf.cast(tf.clip_by_value(image, tf_dtype.min, tf_dtype.max), dtype)\n",
    "\n",
    "def get_resize_small(smaller_size, method=\"area\", antialias=False):\n",
    "  \"\"\"Resizes the smaller side to `smaller_size` keeping aspect ratio.\n",
    "\n",
    "  Args:\n",
    "    smaller_size: an integer, that represents a new size of the smaller side of\n",
    "      an input image.\n",
    "    method: the resize method. `area` is a meaningful, bwd-compat default.\n",
    "    antialias: see tf.image.resize. Ideally set to True for all new configs.\n",
    "\n",
    "  Returns:\n",
    "    A function, that resizes an image and preserves its aspect ratio.\n",
    "\n",
    "  Note:\n",
    "    backwards-compat for \"area\"+antialias tested here:\n",
    "    (internal link)\n",
    "  \"\"\"\n",
    "\n",
    "  def _resize_small(image):  # pylint: disable=missing-docstring\n",
    "    h, w = tf.shape(image)[0], tf.shape(image)[1]\n",
    "    factor = (\n",
    "        tf.cast(smaller_size, tf.float32) /\n",
    "        tf.cast(tf.minimum(h, w), tf.float32))\n",
    "    return _resize_factor(image, factor, method=method, antialias=antialias)\n",
    "  return _resize_small\n",
    "\n",
    "def get_central_crop(crop_size=None):\n",
    "  \"\"\"Makes central crop of a given size.\n",
    "\n",
    "  Args:\n",
    "    crop_size: either an integer H, where H is both the height and width of the\n",
    "      central crop, or a list or tuple [H, W] of integers, where H and W are\n",
    "      height and width of the central crop respectively. If `crop_size` is not\n",
    "      specified, then the largest possible center crop will be taken.\n",
    "\n",
    "  Returns:\n",
    "    A function, that applies central crop.\n",
    "  \"\"\"\n",
    "  def _crop(image):\n",
    "    if crop_size:\n",
    "      h, w = crop_size[0], crop_size[1]\n",
    "    else:\n",
    "      h = w = tf.minimum(tf.shape(image)[0], tf.shape(image)[1])\n",
    "    dy = (tf.shape(image)[0] - h) // 2\n",
    "    dx = (tf.shape(image)[1] - w) // 2\n",
    "    return tf.image.crop_to_bounding_box(image, dy, dx, h, w)\n",
    "\n",
    "  return _crop\n",
    "\n",
    "def get_value_range(vmin=-1, vmax=1, in_min=0, in_max=255.0, clip_values=False):\n",
    "  \"\"\"Transforms a [in_min,in_max] image to [vmin,vmax] range.\n",
    "\n",
    "  Input ranges in_min/in_max can be equal-size lists to rescale the invidudal\n",
    "  channels independently.\n",
    "\n",
    "  Args:\n",
    "    vmin: A scalar. Output max value.\n",
    "    vmax: A scalar. Output min value.\n",
    "    in_min: A scalar or a list of input min values to scale. If a list, the\n",
    "      length should match to the number of channels in the image.\n",
    "    in_max: A scalar or a list of input max values to scale. If a list, the\n",
    "      length should match to the number of channels in the image.\n",
    "    clip_values: Whether to clip the output values to the provided ranges.\n",
    "\n",
    "  Returns:\n",
    "    A function to rescale the values.\n",
    "  \"\"\"\n",
    "\n",
    "  def _value_range(image):\n",
    "    \"\"\"Scales values in given range.\"\"\"\n",
    "    in_min_t = tf.constant(in_min, tf.float32)\n",
    "    in_max_t = tf.constant(in_max, tf.float32)\n",
    "    image = tf.cast(image, tf.float32)\n",
    "    image = (image - in_min_t) / (in_max_t - in_min_t)\n",
    "    image = vmin + image * (vmax - vmin)\n",
    "    if clip_values:\n",
    "      image = tf.clip_by_value(image, vmin, vmax)\n",
    "    return image\n",
    "\n",
    "  return _value_range\n",
    "\n",
    "rs = get_resize_small(256)\n",
    "cc = get_central_crop((224, 224))\n",
    "vr = get_value_range(-1, 1)"
   ]
  },
  {
   "cell_type": "code",
   "execution_count": 20,
   "id": "1b50eb6f-39a1-4f24-8205-4ea00bf6cda7",
   "metadata": {},
   "outputs": [],
   "source": [
    "import torch\n",
    "resize = v2.Resize(256)\n",
    "center_crop = v2.CenterCrop(224)\n",
    "to_float = v2.ToDtype(torch.float32, scale=True)\n",
    "value_range = value_range = v2.Normalize(mean=[0.5] * 3, std=[0.5] * 3)"
   ]
  },
  {
   "cell_type": "code",
   "execution_count": 21,
   "id": "e0ccb394-b68f-435e-8220-274ac330e486",
   "metadata": {},
   "outputs": [],
   "source": [
    "result = []\n",
    "for data in tfds_default:\n",
    "    tf_img = data['image']\n",
    "    tf_img = vr(cc(rs(tf_img)))\n",
    "    filename = data['file_name']\n",
    "    index = img_dict[filename.numpy().decode('ascii')]\n",
    "    tv_img = value_range(\n",
    "        to_float(\n",
    "            center_crop(\n",
    "                resize(\n",
    "                    to_image(\n",
    "                        torchvision_default[index][0])))))\n",
    "    result.append(normalized_l2_difference(tf_img, tv_img, factor=1.))"
   ]
  },
  {
   "cell_type": "code",
   "execution_count": 22,
   "id": "7011aff3-f893-4672-8d83-ec1a36afa9c4",
   "metadata": {},
   "outputs": [
    {
     "data": {
      "text/plain": [
       "dtype('float64')"
      ]
     },
     "execution_count": 22,
     "metadata": {},
     "output_type": "execute_result"
    }
   ],
   "source": [
    "preprocessed = np.array(result)\n",
    "preprocessed.dtype"
   ]
  },
  {
   "cell_type": "code",
   "execution_count": 23,
   "id": "d88ace74-a663-4b43-875e-ddebe97c6212",
   "metadata": {},
   "outputs": [],
   "source": [
    "filename = f\"/home/{USER}/Downloads/preprocessed-imagenet-ds-diff\"\n",
    "np.save(filename, preprocessed)"
   ]
  },
  {
   "cell_type": "code",
   "execution_count": 27,
   "id": "ff1c4db2-8ed3-46a9-b226-555fc0a3aeab",
   "metadata": {},
   "outputs": [
    {
     "data": {
      "image/png": "[encoded data removed]",
      "text/plain": [
       "<Figure size 640x480 with 1 Axes>"
      ]
     },
     "metadata": {},
     "output_type": "display_data"
    }
   ],
   "source": [
    "import matplotlib.pyplot as plt\n",
    "\n",
    "plt.hist(default, 500, density=True, histtype='step', label=\"Default Decoder\")\n",
    "plt.hist(preprocessed, 500, density=True, histtype='step', label=\"Preprocessed\")\n",
    "\n",
    "plt.legend(loc=\"upper right\")\n",
    "plt.xlabel(\"L2 Difference per Pixel\")\n",
    "plt.ylabel(\"Number of Images\")\n",
    "plt.savefig(f\"/home/{USER}/Downloads/imagenet-ds-diff.png\")\n",
    "plt.show()"
   ]
  },
  {
   "cell_type": "code",
   "execution_count": null,
   "id": "5fdaf76c-6dcf-4ec7-b8f1-1a213d37dcb2",
   "metadata": {},
   "outputs": [],
   "source": []
  }
 ],
 "metadata": {
  "kernelspec": {
   "display_name": "Python 3 (ipykernel)",
   "language": "python",
   "name": "python3"
  },
  "language_info": {
   "codemirror_mode": {
    "name": "ipython",
    "version": 3
   },
   "file_extension": ".py",
   "mimetype": "text/x-python",
   "name": "python",
   "nbconvert_exporter": "python",
   "pygments_lexer": "ipython3",
   "version": "3.11.10"
  }
 },
 "nbformat": 4,
 "nbformat_minor": 5
}
