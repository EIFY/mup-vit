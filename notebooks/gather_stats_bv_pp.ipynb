{
 "cells": [
  {
   "cell_type": "code",
   "execution_count": 1,
   "id": "e5b839a1-4836-41ac-aa7e-65781e4cddb3",
   "metadata": {},
   "outputs": [],
   "source": [
    "import torch\n",
    "from simple_vit import SimpleVisionTransformer\n",
    "import torchvision.datasets as datasets\n",
    "from torchvision.transforms import v2\n",
    "from scipy.stats import entropy"
   ]
  },
  {
   "cell_type": "code",
   "execution_count": 15,
   "id": "9b5a91b0-96a2-48f8-917a-a68c0c44fb3e",
   "metadata": {},
   "outputs": [],
   "source": [
    "import numpy as np\n",
    "\n",
    "# I tried to prevent TensorFlow from taking all GPU RAM for hours to no avail, so I had to resort to using CPU for the grafted experiment.\n",
    "# You should use GPU if you can overcome this issue.\n",
    "device = torch.device(\"cpu\")\n",
    "# device = torch.device(\"cuda\")\n",
    "\n",
    "def gather_stats(ckpt_path, ds, device):\n",
    "    hidden_dim = 384\n",
    "    input_resolution = 224\n",
    "    \n",
    "    vit = SimpleVisionTransformer(\n",
    "        image_size=input_resolution,\n",
    "        patch_size=16,\n",
    "        num_layers=12,\n",
    "        num_heads=6,\n",
    "        hidden_dim=hidden_dim,\n",
    "        mlp_dim=hidden_dim * 4\n",
    "    )\n",
    "\n",
    "    ckpt = torch.load(ckpt_path, weights_only=True)\n",
    "    try:\n",
    "        vit.load_state_dict(ckpt['state_dict'])\n",
    "    except:\n",
    "        vit.load_state_dict({k[len('module.'):]: v for k, v in ckpt['state_dict'].items()})\n",
    "\n",
    "    vit = vit.to(device)\n",
    "    result = []\n",
    "\n",
    "    for _, batch in enumerate(ds):\n",
    "        images, target = batch\n",
    "        images = images.to(device)\n",
    "        target = target.to(device)\n",
    "        images.requires_grad = True\n",
    "        logits, _ = vit(images, 1.0, target, target)\n",
    "        target_logits = logits[torch.arange(logits.shape[0]), target]\n",
    "        total = sum(target_logits)\n",
    "        total.backward()\n",
    "        grad_sum_clipped = torch.clamp(images.grad.sum(dim=1), min=0.)\n",
    "        grad_sum_clipped_normalized = grad_sum_clipped / grad_sum_clipped.sum(dim=(1, 2), keepdim=True)\n",
    "        grad_sum_clipped_normalized = grad_sum_clipped_normalized.flatten(start_dim=1).cpu().numpy()\n",
    "        result.append(entropy(grad_sum_clipped_normalized, axis=1))\n",
    "\n",
    "    return np.concatenate(result, dtype=np.float32)"
   ]
  },
  {
   "cell_type": "code",
   "execution_count": 4,
   "id": "fb1600bb-a65e-4076-a447-5b72618f6011",
   "metadata": {},
   "outputs": [
    {
     "name": "stderr",
     "output_type": "stream",
     "text": [
      "2024-12-18 17:37:47.900664: I tensorflow/core/util/port.cc:113] oneDNN custom operations are on. You may see slightly different numerical results due to floating-point round-off errors from different computation orders. To turn them off, set the environment variable `TF_ENABLE_ONEDNN_OPTS=0`.\n",
      "2024-12-18 17:37:47.928848: E external/local_xla/xla/stream_executor/cuda/cuda_dnn.cc:9261] Unable to register cuDNN factory: Attempting to register factory for plugin cuDNN when one has already been registered\n",
      "2024-12-18 17:37:47.928871: E external/local_xla/xla/stream_executor/cuda/cuda_fft.cc:607] Unable to register cuFFT factory: Attempting to register factory for plugin cuFFT when one has already been registered\n",
      "2024-12-18 17:37:47.929617: E external/local_xla/xla/stream_executor/cuda/cuda_blas.cc:1515] Unable to register cuBLAS factory: Attempting to register factory for plugin cuBLAS when one has already been registered\n",
      "2024-12-18 17:37:47.934589: I tensorflow/core/platform/cpu_feature_guard.cc:182] This TensorFlow binary is optimized to use available CPU instructions in performance-critical operations.\n",
      "To enable the following instructions: AVX2 AVX512F AVX512_VNNI FMA, in other operations, rebuild TensorFlow with the appropriate compiler flags.\n",
      "2024-12-18 17:37:48.525532: W tensorflow/compiler/tf2tensorrt/utils/py_utils.cc:38] TF-TRT Warning: Could not find TensorRT\n",
      "2024-12-18 17:37:50.922822: I external/local_xla/xla/stream_executor/cuda/cuda_executor.cc:901] successful NUMA node read from SysFS had negative value (-1), but there must be at least one NUMA node, so returning NUMA node zero. See more at https://github.com/torvalds/linux/blob/v6.0/Documentation/ABI/testing/sysfs-bus-pci#L344-L355\n",
      "2024-12-18 17:37:50.923823: I external/local_xla/xla/stream_executor/cuda/cuda_executor.cc:901] successful NUMA node read from SysFS had negative value (-1), but there must be at least one NUMA node, so returning NUMA node zero. See more at https://github.com/torvalds/linux/blob/v6.0/Documentation/ABI/testing/sysfs-bus-pci#L344-L355\n",
      "2024-12-18 17:37:50.923922: I external/local_xla/xla/stream_executor/cuda/cuda_executor.cc:901] successful NUMA node read from SysFS had negative value (-1), but there must be at least one NUMA node, so returning NUMA node zero. See more at https://github.com/torvalds/linux/blob/v6.0/Documentation/ABI/testing/sysfs-bus-pci#L344-L355\n"
     ]
    }
   ],
   "source": [
    "import tensorflow as tf\n",
    "# This is one of the recommended way to prevent TF from using GPU, but didn't work.\n",
    "tf.config.set_visible_devices([], \"GPU\")\n",
    "\n",
    "# Just the necessary parts of Big Vision\n",
    "def _resize_factor(image, factor, method=\"area\", antialias=True):\n",
    "  \"\"\"Resizes the image by a (float) `factor`, keeping the aspect ratio fixed.\"\"\"\n",
    "  h, w = tf.shape(image)[0], tf.shape(image)[1]\n",
    "\n",
    "  h = tf.cast(tf.round(tf.cast(h, tf.float32) * factor), tf.int32)\n",
    "  w = tf.cast(tf.round(tf.cast(w, tf.float32) * factor), tf.int32)\n",
    "\n",
    "  dtype = image.dtype\n",
    "  tf_dtype = tf.type_spec_from_value(image).dtype\n",
    "  image = tf.image.resize(image, (h, w), method=method, antialias=antialias)\n",
    "  return tf.cast(tf.clip_by_value(image, tf_dtype.min, tf_dtype.max), dtype)\n",
    "\n",
    "def get_resize_small(smaller_size, method=\"area\", antialias=False):\n",
    "  \"\"\"Resizes the smaller side to `smaller_size` keeping aspect ratio.\n",
    "\n",
    "  Args:\n",
    "    smaller_size: an integer, that represents a new size of the smaller side of\n",
    "      an input image.\n",
    "    method: the resize method. `area` is a meaningful, bwd-compat default.\n",
    "    antialias: see tf.image.resize. Ideally set to True for all new configs.\n",
    "\n",
    "  Returns:\n",
    "    A function, that resizes an image and preserves its aspect ratio.\n",
    "\n",
    "  Note:\n",
    "    backwards-compat for \"area\"+antialias tested here:\n",
    "    (internal link)\n",
    "  \"\"\"\n",
    "\n",
    "  def _resize_small(image):  # pylint: disable=missing-docstring\n",
    "    h, w = tf.shape(image)[0], tf.shape(image)[1]\n",
    "    factor = (\n",
    "        tf.cast(smaller_size, tf.float32) /\n",
    "        tf.cast(tf.minimum(h, w), tf.float32))\n",
    "    return _resize_factor(image, factor, method=method, antialias=antialias)\n",
    "  return _resize_small\n",
    "\n",
    "def get_central_crop(crop_size=None):\n",
    "  \"\"\"Makes central crop of a given size.\n",
    "\n",
    "  Args:\n",
    "    crop_size: either an integer H, where H is both the height and width of the\n",
    "      central crop, or a list or tuple [H, W] of integers, where H and W are\n",
    "      height and width of the central crop respectively. If `crop_size` is not\n",
    "      specified, then the largest possible center crop will be taken.\n",
    "\n",
    "  Returns:\n",
    "    A function, that applies central crop.\n",
    "  \"\"\"\n",
    "  def _crop(image):\n",
    "    if crop_size:\n",
    "      h, w = crop_size[0], crop_size[1]\n",
    "    else:\n",
    "      h = w = tf.minimum(tf.shape(image)[0], tf.shape(image)[1])\n",
    "    dy = (tf.shape(image)[0] - h) // 2\n",
    "    dx = (tf.shape(image)[1] - w) // 2\n",
    "    return tf.image.crop_to_bounding_box(image, dy, dx, h, w)\n",
    "\n",
    "  return _crop\n",
    "\n",
    "def get_value_range(vmin=-1, vmax=1, in_min=0, in_max=255.0, clip_values=False):\n",
    "  \"\"\"Transforms a [in_min,in_max] image to [vmin,vmax] range.\n",
    "\n",
    "  Input ranges in_min/in_max can be equal-size lists to rescale the invidudal\n",
    "  channels independently.\n",
    "\n",
    "  Args:\n",
    "    vmin: A scalar. Output max value.\n",
    "    vmax: A scalar. Output min value.\n",
    "    in_min: A scalar or a list of input min values to scale. If a list, the\n",
    "      length should match to the number of channels in the image.\n",
    "    in_max: A scalar or a list of input max values to scale. If a list, the\n",
    "      length should match to the number of channels in the image.\n",
    "    clip_values: Whether to clip the output values to the provided ranges.\n",
    "\n",
    "  Returns:\n",
    "    A function to rescale the values.\n",
    "  \"\"\"\n",
    "\n",
    "  def _value_range(image):\n",
    "    \"\"\"Scales values in given range.\"\"\"\n",
    "    in_min_t = tf.constant(in_min, tf.float32)\n",
    "    in_max_t = tf.constant(in_max, tf.float32)\n",
    "    image = tf.cast(image, tf.float32)\n",
    "    image = (image - in_min_t) / (in_max_t - in_min_t)\n",
    "    image = vmin + image * (vmax - vmin)\n",
    "    if clip_values:\n",
    "      image = tf.clip_by_value(image, vmin, vmax)\n",
    "    return image\n",
    "\n",
    "  return _value_range\n",
    "\n",
    "rs = get_resize_small(256)\n",
    "cc = get_central_crop((224, 224))\n",
    "vr = get_value_range(-1, 1)\n",
    "\n",
    "def preprocess(row):\n",
    "    image, target = row['image'], row['label']\n",
    "    image = vr(cc(rs(image)))\n",
    "    return image, target"
   ]
  },
  {
   "cell_type": "code",
   "execution_count": 5,
   "id": "98ae0b2f-ab52-4700-b4c3-c173e1718de0",
   "metadata": {},
   "outputs": [],
   "source": [
    "import tensorflow_datasets as tfds"
   ]
  },
  {
   "cell_type": "code",
   "execution_count": 6,
   "id": "9579c9a1-ea51-4e52-8c4f-3867e97b36ce",
   "metadata": {},
   "outputs": [
    {
     "data": {
      "text/plain": [
       "<All keys matched successfully>"
      ]
     },
     "execution_count": 6,
     "metadata": {},
     "output_type": "execute_result"
    }
   ],
   "source": [
    "hidden_dim = 384\n",
    "input_resolution = 224\n",
    "\n",
    "vit = SimpleVisionTransformer(\n",
    "    image_size=input_resolution,\n",
    "    patch_size=16,\n",
    "    num_layers=12,\n",
    "    num_heads=6,\n",
    "    hidden_dim=hidden_dim,\n",
    "    mlp_dim=hidden_dim * 4\n",
    ")\n",
    "\n",
    "ckpt_path = \"/data/imagenet/grafted-fixed/model_best.pth.tar\"\n",
    "ckpt = torch.load(ckpt_path, weights_only=True)\n",
    "vit.load_state_dict(ckpt['state_dict'])"
   ]
  },
  {
   "cell_type": "code",
   "execution_count": 7,
   "id": "c2ef8cc9-ebdc-4cda-b224-b6cf10d0dbf4",
   "metadata": {},
   "outputs": [],
   "source": [
    "vit = vit.to(device)"
   ]
  },
  {
   "cell_type": "code",
   "execution_count": 8,
   "id": "5e4779f6-e397-466f-bdb8-7c435e5ae54f",
   "metadata": {},
   "outputs": [],
   "source": [
    "def correct(output, target, topk=(1,)):\n",
    "    \"\"\"Computes the accuracy over the k top predictions for the specified values of k\"\"\"\n",
    "    with torch.no_grad():\n",
    "        maxk = max(topk)\n",
    "        batch_size = target.size(0)\n",
    "        \n",
    "        _, pred = output.topk(maxk, 1, True, True)\n",
    "        pred = pred.t()\n",
    "        correct = pred.eq(target.view(1, -1).expand_as(pred))\n",
    "\n",
    "        res = []\n",
    "        for k in topk:\n",
    "            correct_k = correct[:k].reshape(-1).float().sum(0, keepdim=True)\n",
    "            res.append(correct_k)\n",
    "        return res"
   ]
  },
  {
   "cell_type": "code",
   "execution_count": 9,
   "id": "01a3ba20-7b59-4c2a-a4a6-c7a947cb603e",
   "metadata": {},
   "outputs": [
    {
     "name": "stdout",
     "output_type": "stream",
     "text": [
      "[]\n"
     ]
    }
   ],
   "source": [
    "print(tf.config.list_logical_devices('GPU'))"
   ]
  },
  {
   "cell_type": "code",
   "execution_count": 10,
   "id": "21dbb8be-3ced-4c27-8a2d-89897c30c8c7",
   "metadata": {},
   "outputs": [
    {
     "name": "stdout",
     "output_type": "stream",
     "text": [
      "0.7671\n"
     ]
    }
   ],
   "source": [
    "import dlpack\n",
    "\n",
    "ds = tfds.load('imagenet2012', split='validation')\n",
    "ds = ds.map(preprocess).batch(128).prefetch(1)\n",
    "def shim(ds):\n",
    "    for images, target in ds:\n",
    "        images, target = torch.from_dlpack(dlpack.asdlpack(images)), torch.from_dlpack(dlpack.asdlpack(target))\n",
    "        images = images.permute(0, 3, 1, 2)\n",
    "        yield images, target\n",
    "\n",
    "total = 0\n",
    "torch.cuda.empty_cache()\n",
    "for images, target in shim(ds):\n",
    "    images = images.to(device)\n",
    "    target = target.to(device)\n",
    "    output, _ = vit(images, 1.0, target, target)\n",
    "    corr, = correct(output, target)\n",
    "    total += corr.item()\n",
    "\n",
    "print(total / 50000)"
   ]
  },
  {
   "cell_type": "raw",
   "id": "f15964d3-f195-40e5-8520-9e469866d38e",
   "metadata": {},
   "source": [
    "grafted branch of big_vision reported 0.76718, a difference of 4 images. GPU vs. CPU numerics?"
   ]
  },
  {
   "cell_type": "code",
   "execution_count": null,
   "id": "19822e40-ac73-46e6-aaef-20ad0d4bbce0",
   "metadata": {},
   "outputs": [],
   "source": [
    "USER = '** redacted **'\n",
    "\n",
    "checkpoints = [\"/data/imagenet-runs/logs/90ep-repo-attempt12/checkpoints/model_best.pth.tar\",\n",
    "               \"/data/imagenet-runs/logs/90ep-true-reproduction/checkpoints/model_best.pth.tar\",\n",
    "               \"/data/imagenet-runs/logs/linear-head-90ep/checkpoints/model_best.pth.tar\",\n",
    "               \"/data/imagenet/grafted-fixed/model_best.pth.tar\"]\n",
    "\n",
    "filenames = [f\"/home/{USER}/Downloads/90ep-repo-attempt12-entropy\",\n",
    "             f\"/home/{USER}/Downloads/90ep-true-reproduction-entropy\",\n",
    "             f\"/home/{USER}/Downloads/linear-head-90ep-entropy\",\n",
    "             f\"/home/{USER}/Downloads/90ep-grafted-entropy\"]"
   ]
  },
  {
   "cell_type": "code",
   "execution_count": 16,
   "id": "5a8bd4c2-7816-4323-b4fd-a7f7682c0ce0",
   "metadata": {},
   "outputs": [],
   "source": [
    "for ckpt_path, filename in zip(checkpoints, filenames):\n",
    "    result = gather_stats(ckpt_path, shim(ds), device)\n",
    "    np.save(filename + '-bv-pp', result)"
   ]
  },
  {
   "cell_type": "code",
   "execution_count": 17,
   "id": "1099741a-cd5e-463c-bde8-3976eb2d8370",
   "metadata": {},
   "outputs": [
    {
     "data": {
      "text/plain": [
       "(50000,)"
      ]
     },
     "execution_count": 17,
     "metadata": {},
     "output_type": "execute_result"
    }
   ],
   "source": [
    "result.shape"
   ]
  },
  {
   "cell_type": "code",
   "execution_count": 19,
   "id": "23a918db-a284-4b11-b0cf-f664b7595703",
   "metadata": {},
   "outputs": [
    {
     "data": {
      "image/png": "[encoded data removed]",
      "text/plain": [
       "<Figure size 640x480 with 1 Axes>"
      ]
     },
     "metadata": {},
     "output_type": "display_data"
    }
   ],
   "source": [
    "import matplotlib.pyplot as plt\n",
    "\n",
    "filenames = [f\"/home/{USER}/Downloads/90ep-repo-attempt12-entropy\",\n",
    "             f\"/home/{USER}/Downloads/linear-head-90ep-entropy\",\n",
    "             f\"/home/{USER}/Downloads/90ep-true-reproduction-entropy\",\n",
    "             f\"/home/{USER}/Downloads/90ep-grafted-entropy\"]\n",
    "labels = [\"Fixed\", \"Fixed Parallel\", \"Repro\", \"Grafted\"]\n",
    "\n",
    "for filename, label in zip(filenames, labels):\n",
    "    result = np.load(filename + '-bv-pp.npy')\n",
    "    plt.hist(result, 500, density=True, histtype='step', label=label)\n",
    "\n",
    "plt.legend(loc=\"upper left\")\n",
    "plt.xlabel(\"Positive Gradient Entropy\")\n",
    "plt.ylabel(\"Number of Images\")\n",
    "plt.savefig(f\"/home/{USER}/Downloads/90ep-pixel-grad-comparison-bv-pp-only.png\")\n",
    "plt.show()"
   ]
  },
  {
   "cell_type": "code",
   "execution_count": null,
   "id": "c349dad1-b6db-41a9-b1b9-a3db074be917",
   "metadata": {},
   "outputs": [],
   "source": []
  }
 ],
 "metadata": {
  "kernelspec": {
   "display_name": "Python 3 (ipykernel)",
   "language": "python",
   "name": "python3"
  },
  "language_info": {
   "codemirror_mode": {
    "name": "ipython",
    "version": 3
   },
   "file_extension": ".py",
   "mimetype": "text/x-python",
   "name": "python",
   "nbconvert_exporter": "python",
   "pygments_lexer": "ipython3",
   "version": "3.11.10"
  }
 },
 "nbformat": 4,
 "nbformat_minor": 5
}
