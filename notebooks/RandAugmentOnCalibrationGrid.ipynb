{
  "cells": [
    {
      "cell_type": "code",
      "execution_count": null,
      "metadata": {
        "id": "5J0V2GMg3Tbj"
      },
      "outputs": [],
      "source": [
        "N = 100000\n",
        "row = [0] * 56 + [1] * 56\n",
        "row *= 2"
      ]
    },
    {
      "cell_type": "code",
      "execution_count": null,
      "metadata": {
        "id": "YpWb-79eiYHV"
      },
      "outputs": [],
      "source": [
        "row = [255 * b for b in row]"
      ]
    },
    {
      "cell_type": "code",
      "execution_count": null,
      "metadata": {
        "id": "5FE8Hs6Jioab"
      },
      "outputs": [],
      "source": [
        "tile = [row for _ in range(56)]"
      ]
    },
    {
      "cell_type": "code",
      "execution_count": null,
      "metadata": {
        "id": "5uI7ipINiykp"
      },
      "outputs": [],
      "source": [
        "anti_row = [255 - b for b in row]\n",
        "anti_tile = [anti_row for _ in range(56)]"
      ]
    },
    {
      "cell_type": "code",
      "execution_count": null,
      "metadata": {
        "id": "BjqtnPFijFV6"
      },
      "outputs": [],
      "source": [
        "tile.extend(anti_tile)\n",
        "tile *= 2"
      ]
    },
    {
      "cell_type": "code",
      "execution_count": null,
      "metadata": {
        "id": "9zsMLe07jcxj"
      },
      "outputs": [],
      "source": [
        "tile = [tile for _ in range(3)]"
      ]
    },
    {
      "cell_type": "code",
      "execution_count": null,
      "metadata": {
        "colab": {
          "base_uri": "https://localhost:8080/"
        },
        "id": "_1ykqiPWjnFw",
        "outputId": "ffb2faee-232e-4610-82cf-8af570709d4a"
      },
      "outputs": [
        {
          "name": "stdout",
          "output_type": "stream",
          "text": [
            "Cloning into 'big_vision'...\n",
            "remote: Enumerating objects: 1266, done.\u001b[K\n",
            "remote: Counting objects: 100% (777/777), done.\u001b[K\n",
            "remote: Compressing objects: 100% (351/351), done.\u001b[K\n",
            "remote: Total 1266 (delta 516), reused 515 (delta 400), pack-reused 489\u001b[K\n",
            "Receiving objects: 100% (1266/1266), 4.39 MiB | 4.90 MiB/s, done.\n",
            "Resolving deltas: 100% (693/693), done.\n"
          ]
        }
      ],
      "source": [
        "!git clone https://github.com/google-research/big_vision"
      ]
    },
    {
      "cell_type": "code",
      "execution_count": null,
      "metadata": {
        "id": "LbRIlMV4jxrl"
      },
      "outputs": [],
      "source": [
        "import tensorflow as tf"
      ]
    },
    {
      "cell_type": "code",
      "execution_count": null,
      "metadata": {
        "id": "UhMQ1T4Yj32s"
      },
      "outputs": [],
      "source": [
        "tf_tile = tf.constant(tile, dtype=tf.uint8)"
      ]
    },
    {
      "cell_type": "code",
      "execution_count": null,
      "metadata": {
        "id": "9dEmw80ZlN03"
      },
      "outputs": [],
      "source": [
        "tf_tile = tf.transpose(tf_tile, perm=(1, 2, 0))"
      ]
    },
    {
      "cell_type": "code",
      "execution_count": null,
      "metadata": {
        "colab": {
          "base_uri": "https://localhost:8080/"
        },
        "id": "gHxPH4GVlRZG",
        "outputId": "06fd5917-3690-4c94-fa49-e933b9048a01"
      },
      "outputs": [
        {
          "data": {
            "text/plain": [
              "TensorShape([224, 224, 3])"
            ]
          },
          "execution_count": 11,
          "metadata": {},
          "output_type": "execute_result"
        }
      ],
      "source": [
        "tf_tile.shape"
      ]
    },
    {
      "cell_type": "code",
      "execution_count": null,
      "metadata": {
        "colab": {
          "base_uri": "https://localhost:8080/",
          "height": 452
        },
        "id": "gSSsEGBckRr1",
        "outputId": "2a799c2a-4eb3-45c0-d39f-5998727f0a71"
      },
      "outputs": [
        {
          "data": {
            "text/plain": [
              "<matplotlib.image.AxesImage at 0x78612b718220>"
            ]
          },
          "execution_count": 12,
          "metadata": {},
          "output_type": "execute_result"
        },
        {
          "data": {
            "image/png": "[encoded data removed]",
            "text/plain": [
              "<Figure size 640x480 with 1 Axes>"
            ]
          },
          "metadata": {},
          "output_type": "display_data"
        }
      ],
      "source": [
        "import matplotlib.pyplot as plt\n",
        "plt.imshow(tf_tile)"
      ]
    },
    {
      "cell_type": "code",
      "execution_count": null,
      "metadata": {
        "colab": {
          "base_uri": "https://localhost:8080/"
        },
        "id": "IJ1vhifilezX",
        "outputId": "c1bacc8b-d4ae-4ace-be22-fc2aa07cf284"
      },
      "outputs": [
        {
          "name": "stdout",
          "output_type": "stream",
          "text": [
            "Collecting tensorflow_addons\n",
            "  Downloading tensorflow_addons-0.23.0-cp310-cp310-manylinux_2_17_x86_64.manylinux2014_x86_64.whl (611 kB)\n",
            "\u001b[2K     \u001b[90m━━━━━━━━━━━━━━━━━━━━━━━━━━━━━━━━━━━━━━━━\u001b[0m \u001b[32m611.8/611.8 kB\u001b[0m \u001b[31m3.4 MB/s\u001b[0m eta \u001b[36m0:00:00\u001b[0m\n",
            "\u001b[?25hRequirement already satisfied: packaging in /usr/local/lib/python3.10/dist-packages (from tensorflow_addons) (24.0)\n",
            "Collecting typeguard<3.0.0,>=2.7 (from tensorflow_addons)\n",
            "  Downloading typeguard-2.13.3-py3-none-any.whl (17 kB)\n",
            "Installing collected packages: typeguard, tensorflow_addons\n",
            "Successfully installed tensorflow_addons-0.23.0 typeguard-2.13.3\n"
          ]
        },
        {
          "name": "stderr",
          "output_type": "stream",
          "text": [
            "/usr/local/lib/python3.10/dist-packages/tensorflow_addons/utils/tfa_eol_msg.py:23: UserWarning: \n",
            "\n",
            "TensorFlow Addons (TFA) has ended development and introduction of new features.\n",
            "TFA has entered a minimal maintenance and release mode until a planned end of life in May 2024.\n",
            "Please modify downstream libraries to take dependencies from other repositories in our TensorFlow community (e.g. Keras, Keras-CV, and Keras-NLP). \n",
            "\n",
            "For more information see: https://github.com/tensorflow/addons/issues/2807 \n",
            "\n",
            "  warnings.warn(\n"
          ]
        }
      ],
      "source": [
        "import importlib\n",
        "!pip3 install tensorflow_addons\n",
        "m = importlib.import_module(f\"big_vision.big_vision.pp.autoaugment\")"
      ]
    },
    {
      "cell_type": "code",
      "execution_count": null,
      "metadata": {
        "colab": {
          "base_uri": "https://localhost:8080/",
          "height": 452
        },
        "id": "U3hqCkkMmrAe",
        "outputId": "29dc0cc1-10e9-4bbe-fb7d-bfb2178c10a6"
      },
      "outputs": [
        {
          "data": {
            "text/plain": [
              "<matplotlib.image.AxesImage at 0x786128427580>"
            ]
          },
          "execution_count": 14,
          "metadata": {},
          "output_type": "execute_result"
        },
        {
          "data": {
            "image/png": "[encoded data removed]",
            "text/plain": [
              "<Figure size 640x480 with 1 Axes>"
            ]
          },
          "metadata": {},
          "output_type": "display_data"
        }
      ],
      "source": [
        "out = m.distort_image_with_randaugment(tf_tile, 2, 10)\n",
        "plt.imshow(out)"
      ]
    },
    {
      "cell_type": "code",
      "execution_count": null,
      "metadata": {
        "id": "Uw_WQJfwnwpT"
      },
      "outputs": [],
      "source": [
        "import collections"
      ]
    },
    {
      "cell_type": "code",
      "execution_count": null,
      "metadata": {
        "id": "vpd-g940wQZ9"
      },
      "outputs": [],
      "source": [
        "import tqdm"
      ]
    },
    {
      "cell_type": "code",
      "execution_count": null,
      "metadata": {
        "colab": {
          "base_uri": "https://localhost:8080/"
        },
        "id": "J8KlEPjiwU-6",
        "outputId": "215fd056-c20e-4e25-9b8a-c8d5f318791c"
      },
      "outputs": [
        {
          "name": "stderr",
          "output_type": "stream",
          "text": [
            "\r  0%|          | 0/100000 [00:00<?, ?it/s]WARNING:tensorflow:From /usr/local/lib/python3.10/dist-packages/tensorflow/python/util/dispatch.py:1260: to_float (from tensorflow.python.ops.math_ops) is deprecated and will be removed in a future version.\n",
            "Instructions for updating:\n",
            "Use `tf.cast` instead.\n",
            "100%|██████████| 100000/100000 [3:32:50<00:00,  7.83it/s]\n"
          ]
        }
      ],
      "source": [
        "tf_counter = collections.Counter()\n",
        "for _ in tqdm.tqdm(range(N)):\n",
        "  out = m.distort_image_with_randaugment(tf_tile, 2, 10)\n",
        "  tf_counter.update(tuple(pixel) for row in out.numpy() for pixel in row)"
      ]
    },
    {
      "cell_type": "code",
      "execution_count": null,
      "metadata": {
        "colab": {
          "base_uri": "https://localhost:8080/"
        },
        "id": "8_KYwcEe1vqK",
        "outputId": "5a309221-4a5f-441b-e9fa-f3ed20eb09fd"
      },
      "outputs": [
        {
          "data": {
            "text/plain": [
              "True"
            ]
          },
          "execution_count": 18,
          "metadata": {},
          "output_type": "execute_result"
        }
      ],
      "source": [
        "all(k[0] == k[1] == k[2] for k in tf_counter.keys())"
      ]
    },
    {
      "cell_type": "code",
      "execution_count": null,
      "metadata": {
        "colab": {
          "base_uri": "https://localhost:8080/",
          "height": 445
        },
        "id": "q_lRP5q015-9",
        "outputId": "678c66bb-0143-4230-90e5-09476c4faa80"
      },
      "outputs": [
        {
          "data": {
            "image/png": "[encoded data removed]",
            "text/plain": [
              "<Figure size 640x480 with 1 Axes>"
            ]
          },
          "metadata": {},
          "output_type": "display_data"
        }
      ],
      "source": [
        "plt.bar([k[0] for k in tf_counter.keys()], tf_counter.values())\n",
        "plt.show()"
      ]
    },
    {
      "cell_type": "code",
      "execution_count": null,
      "metadata": {
        "colab": {
          "base_uri": "https://localhost:8080/",
          "height": 445
        },
        "id": "hV_A-9WHBtM1",
        "outputId": "50ccfb52-c5b9-415f-f049-1bd3decd977f"
      },
      "outputs": [
        {
          "data": {
            "image/png": "[encoded data removed]",
            "text/plain": [
              "<Figure size 640x480 with 1 Axes>"
            ]
          },
          "metadata": {},
          "output_type": "display_data"
        }
      ],
      "source": [
        "plt.bar(range(1, 255), [tf_counter[(i, i, i)] for i in range(1, 255)])\n",
        "plt.show()"
      ]
    },
    {
      "cell_type": "code",
      "execution_count": null,
      "metadata": {
        "colab": {
          "base_uri": "https://localhost:8080/"
        },
        "id": "YQkWj8r9A__O",
        "outputId": "b19598a9-f02d-4521-9c17-9bd19203557b"
      },
      "outputs": [
        {
          "data": {
            "text/plain": [
              "Counter({(0, 0, 0): 1822737431,\n",
              "         (255, 255, 255): 1842426210,\n",
              "         (128, 128, 128): 714368785,\n",
              "         (220, 220, 220): 10689714,\n",
              "         (127, 127, 127): 56486751,\n",
              "         (110, 110, 110): 197108571,\n",
              "         (145, 145, 145): 19794432,\n",
              "         (164, 164, 164): 49428,\n",
              "         (155, 155, 155): 167247,\n",
              "         (146, 146, 146): 50574,\n",
              "         (137, 137, 137): 64224,\n",
              "         (92, 92, 92): 49388,\n",
              "         (101, 101, 101): 169829,\n",
              "         (119, 119, 119): 64157,\n",
              "         (240, 240, 240): 218237258,\n",
              "         (173, 173, 173): 473,\n",
              "         (84, 84, 84): 478,\n",
              "         (66, 66, 66): 27916988,\n",
              "         (32, 32, 32): 9959936,\n",
              "         (192, 192, 192): 2956576,\n",
              "         (96, 96, 96): 10010112,\n",
              "         (243, 243, 243): 28654651,\n",
              "         (188, 188, 188): 3111760,\n",
              "         (80, 80, 80): 492480,\n",
              "         (70, 70, 70): 6840,\n",
              "         (15, 15, 15): 19869696,\n",
              "         (209, 209, 209): 10171364,\n",
              "         (98, 98, 98): 17449600,\n",
              "         (187, 187, 187): 2626400,\n",
              "         (213, 213, 213): 54800,\n",
              "         (201, 201, 201): 48400,\n",
              "         (215, 215, 215): 57587,\n",
              "         (198, 198, 198): 447600,\n",
              "         (199, 199, 199): 306080,\n",
              "         (197, 197, 197): 147200,\n",
              "         (218, 218, 218): 36105,\n",
              "         (225, 225, 225): 26197,\n",
              "         (204, 204, 204): 45520,\n",
              "         (222, 222, 222): 35710,\n",
              "         (196, 196, 196): 19200,\n",
              "         (207, 207, 207): 72520,\n",
              "         (219, 219, 219): 47589,\n",
              "         (216, 216, 216): 17484,\n",
              "         (202, 202, 202): 47840,\n",
              "         (224, 224, 224): 26880,\n",
              "         (227, 227, 227): 9220,\n",
              "         (208, 208, 208): 37280,\n",
              "         (214, 214, 214): 40204,\n",
              "         (232, 232, 232): 2583,\n",
              "         (200, 200, 200): 44640,\n",
              "         (212, 212, 212): 19200,\n",
              "         (221, 221, 221): 26341,\n",
              "         (229, 229, 229): 2695,\n",
              "         (211, 211, 211): 58227,\n",
              "         (205, 205, 205): 27600,\n",
              "         (203, 203, 203): 35120,\n",
              "         (230, 230, 230): 5547,\n",
              "         (210, 210, 210): 39620,\n",
              "         (233, 233, 233): 9389,\n",
              "         (226, 226, 226): 12044,\n",
              "         (234, 234, 234): 4460,\n",
              "         (217, 217, 217): 24355,\n",
              "         (223, 223, 223): 30243,\n",
              "         (228, 228, 228): 9355,\n",
              "         (206, 206, 206): 27280,\n",
              "         (231, 231, 231): 2668,\n",
              "         (239, 239, 239): 1806,\n",
              "         (237, 237, 237): 2058})"
            ]
          },
          "execution_count": 21,
          "metadata": {},
          "output_type": "execute_result"
        }
      ],
      "source": [
        "tf_counter"
      ]
    },
    {
      "cell_type": "code",
      "execution_count": null,
      "metadata": {
        "id": "J2dCV8EE2-HX"
      },
      "outputs": [],
      "source": [
        "import torch"
      ]
    },
    {
      "cell_type": "code",
      "execution_count": null,
      "metadata": {
        "colab": {
          "base_uri": "https://localhost:8080/",
          "height": 452
        },
        "id": "QjdGc34F6dvn",
        "outputId": "4aea87ed-159b-4827-a712-2ddb76cc942f"
      },
      "outputs": [
        {
          "data": {
            "text/plain": [
              "<matplotlib.image.AxesImage at 0x78606d5b4af0>"
            ]
          },
          "execution_count": 23,
          "metadata": {},
          "output_type": "execute_result"
        },
        {
          "data": {
            "image/png": "[encoded data removed]",
            "text/plain": [
              "<Figure size 640x480 with 1 Axes>"
            ]
          },
          "metadata": {},
          "output_type": "display_data"
        }
      ],
      "source": [
        "torch_tile = torch.Tensor(tile).to(torch.uint8)\n",
        "plt.imshow(torch_tile.permute(1, 2, 0))"
      ]
    },
    {
      "cell_type": "code",
      "execution_count": null,
      "metadata": {
        "id": "IJkB2wwt7za4"
      },
      "outputs": [],
      "source": [
        "from torchvision.transforms import v2"
      ]
    },
    {
      "cell_type": "code",
      "execution_count": null,
      "metadata": {
        "colab": {
          "base_uri": "https://localhost:8080/",
          "height": 452
        },
        "id": "13mRuJQn77Sn",
        "outputId": "86209dea-fbdd-4530-bf1e-76aa61c29cd9"
      },
      "outputs": [
        {
          "data": {
            "text/plain": [
              "<matplotlib.image.AxesImage at 0x78606949ae00>"
            ]
          },
          "execution_count": 25,
          "metadata": {},
          "output_type": "execute_result"
        },
        {
          "data": {
            "image/png": "[encoded data removed]",
            "text/plain": [
              "<Figure size 640x480 with 1 Axes>"
            ]
          },
          "metadata": {},
          "output_type": "display_data"
        }
      ],
      "source": [
        "transform = v2.RandAugment(2, 10)\n",
        "out = transform(torch_tile)\n",
        "plt.imshow(out.permute(1, 2, 0))"
      ]
    },
    {
      "cell_type": "code",
      "execution_count": null,
      "metadata": {
        "colab": {
          "base_uri": "https://localhost:8080/"
        },
        "id": "uNdcvVBOABO8",
        "outputId": "e800260a-5a53-4d52-d49f-e2d9410b3689"
      },
      "outputs": [
        {
          "name": "stderr",
          "output_type": "stream",
          "text": [
            "100%|██████████| 100000/100000 [2:30:08<00:00, 11.10it/s]\n"
          ]
        }
      ],
      "source": [
        "torch_counter = collections.Counter()\n",
        "for _ in tqdm.tqdm(range(N)):\n",
        "  out = transform(torch_tile)\n",
        "  torch_counter.update(tuple(pixel) for row in out.permute(1, 2, 0).numpy() for pixel in row)"
      ]
    },
    {
      "cell_type": "code",
      "execution_count": null,
      "metadata": {
        "colab": {
          "base_uri": "https://localhost:8080/",
          "height": 445
        },
        "id": "vhfkNcIj4pgk",
        "outputId": "dac9711e-61d3-4491-c7b8-e8e4c5b80cfb"
      },
      "outputs": [
        {
          "data": {
            "image/png": "[encoded data removed]",
            "text/plain": [
              "<Figure size 640x480 with 1 Axes>"
            ]
          },
          "metadata": {},
          "output_type": "display_data"
        }
      ],
      "source": [
        "plt.bar([k[0] for k in torch_counter.keys()], torch_counter.values())\n",
        "plt.show()"
      ]
    },
    {
      "cell_type": "code",
      "execution_count": null,
      "metadata": {
        "colab": {
          "base_uri": "https://localhost:8080/",
          "height": 445
        },
        "id": "t-o9qENgBhZA",
        "outputId": "b0d33d40-81c3-453b-dbf2-fd24d419931d"
      },
      "outputs": [
        {
          "data": {
            "image/png": "[encoded data removed]",
            "text/plain": [
              "<Figure size 640x480 with 1 Axes>"
            ]
          },
          "metadata": {},
          "output_type": "display_data"
        }
      ],
      "source": [
        "plt.bar(range(1, 255), [torch_counter[(i, i, i)] for i in range(1, 255)])\n",
        "plt.show()"
      ]
    },
    {
      "cell_type": "code",
      "execution_count": null,
      "metadata": {
        "colab": {
          "base_uri": "https://localhost:8080/"
        },
        "id": "ba7h5Pfe8Whx",
        "outputId": "0df3a24b-cbf5-46bc-aa4c-4ee7c31a3a3c"
      },
      "outputs": [
        {
          "data": {
            "text/plain": [
              "Counter({(0, 0, 0): 2805231902,\n",
              "         (255, 255, 255): 1358486472,\n",
              "         (254, 254, 254): 365481466,\n",
              "         (177, 177, 177): 12819968,\n",
              "         (178, 178, 178): 114701526,\n",
              "         (38, 38, 38): 88778956,\n",
              "         (216, 216, 216): 83030036,\n",
              "         (17, 17, 17): 6524954,\n",
              "         (237, 237, 237): 5644633,\n",
              "         (23, 23, 23): 190534,\n",
              "         (231, 231, 231): 3600734,\n",
              "         (35, 35, 35): 14253876,\n",
              "         (214, 214, 214): 6256320,\n",
              "         (25, 25, 25): 202176,\n",
              "         (228, 228, 228): 202176,\n",
              "         (21, 21, 21): 2808,\n",
              "         (232, 232, 232): 2808,\n",
              "         (26, 26, 26): 6447616,\n",
              "         (151, 151, 151): 6447616,\n",
              "         (32, 32, 32): 13442128,\n",
              "         (210, 210, 210): 9990064,\n",
              "         (49, 49, 49): 3310128,\n",
              "         (2, 2, 2): 185022,\n",
              "         (251, 251, 251): 182736,\n",
              "         (4, 4, 4): 2538,\n",
              "         (249, 249, 249): 102429,\n",
              "         (236, 236, 236): 1110672,\n",
              "         (230, 230, 230): 15426,\n",
              "         (1, 1, 1): 19626784,\n",
              "         (124, 124, 124): 2634240,\n",
              "         (5, 5, 5): 104423,\n",
              "         (243, 243, 243): 104138,\n",
              "         (11, 11, 11): 3418332,\n",
              "         (225, 225, 225): 5584,\n",
              "         (29, 29, 29): 4313,\n",
              "         (190, 190, 190): 164592,\n",
              "         (194, 194, 194): 2286,\n",
              "         (31, 31, 31): 164592,\n",
              "         (222, 222, 222): 164592,\n",
              "         (253, 253, 253): 9240352,\n",
              "         (252, 252, 252): 2286,\n",
              "         (41, 41, 41): 2286,\n",
              "         (212, 212, 212): 2286,\n",
              "         (203, 203, 203): 317520,\n",
              "         (54, 54, 54): 4410,\n",
              "         (199, 199, 199): 4410,\n",
              "         (18, 18, 18): 301968,\n",
              "         (24, 24, 24): 4194,\n",
              "         (242, 242, 242): 3161088,\n",
              "         (36, 36, 36): 6923448,\n",
              "         (215, 215, 215): 20497736,\n",
              "         (37, 37, 37): 14074368,\n",
              "         (16, 16, 16): 534384,\n",
              "         (22, 22, 22): 191394,\n",
              "         (165, 165, 165): 311040,\n",
              "         (161, 161, 161): 4320,\n",
              "         (12, 12, 12): 160704,\n",
              "         (219, 219, 219): 474,\n",
              "         (213, 213, 213): 6183436,\n",
              "         (39, 39, 39): 5745152,\n",
              "         (50, 50, 50): 168480,\n",
              "         (64, 64, 64): 3035648,\n",
              "         (189, 189, 189): 3035648,\n",
              "         (77, 77, 77): 6547968,\n",
              "         (244, 244, 244): 365292,\n",
              "         (204, 204, 204): 3738112})"
            ]
          },
          "execution_count": 29,
          "metadata": {},
          "output_type": "execute_result"
        }
      ],
      "source": [
        "torch_counter"
      ]
    },
    {
      "cell_type": "code",
      "execution_count": null,
      "metadata": {
        "colab": {
          "background_save": true,
          "base_uri": "https://localhost:8080/"
        },
        "id": "EVe2bqIp8cYt",
        "outputId": "26c2e8fd-cf65-4eb0-b6a5-811aebbaa70e"
      },
      "outputs": [
        {
          "name": "stderr",
          "output_type": "stream",
          "text": [
            "100%|██████████| 100000/100000 [2:30:41<00:00, 11.06it/s]\n"
          ]
        }
      ],
      "source": [
        "mid_fill_transform = v2.RandAugment(2, 10, fill=[128] * 3)\n",
        "torch_mid_fill_counter = collections.Counter()\n",
        "for _ in tqdm.tqdm(range(N)):\n",
        "  out = mid_fill_transform(torch_tile)\n",
        "  torch_mid_fill_counter.update(tuple(pixel) for row in out.permute(1, 2, 0).numpy() for pixel in row)"
      ]
    },
    {
      "cell_type": "code",
      "execution_count": null,
      "metadata": {
        "colab": {
          "background_save": true
        },
        "id": "zZhYmXih9LgA",
        "outputId": "8ed2966d-d33f-47fa-9a1e-74efa77c2a60"
      },
      "outputs": [
        {
          "data": {
            "image/png": "[encoded data removed]",
            "text/plain": [
              "<Figure size 640x480 with 1 Axes>"
            ]
          },
          "metadata": {},
          "output_type": "display_data"
        }
      ],
      "source": [
        "plt.bar([k[0] for k in torch_mid_fill_counter.keys()], torch_mid_fill_counter.values())\n",
        "plt.show()"
      ]
    },
    {
      "cell_type": "code",
      "execution_count": null,
      "metadata": {
        "colab": {
          "background_save": true
        },
        "id": "RUvC_C7eAzPu",
        "outputId": "a6776b68-b0e2-46b6-cb01-ff67bcbf6a32"
      },
      "outputs": [
        {
          "data": {
            "text/plain": [
              "Counter({(128, 128, 128): 283712442,\n",
              "         (0, 0, 0): 2490944591,\n",
              "         (255, 255, 255): 1358923850,\n",
              "         (127, 127, 127): 11714748,\n",
              "         (38, 38, 38): 114028300,\n",
              "         (216, 216, 216): 107856960,\n",
              "         (17, 17, 17): 6362113,\n",
              "         (237, 237, 237): 5572814,\n",
              "         (23, 23, 23): 183391,\n",
              "         (231, 231, 231): 4664861,\n",
              "         (254, 254, 254): 364276458,\n",
              "         (236, 236, 236): 1017360,\n",
              "         (230, 230, 230): 14130,\n",
              "         (178, 178, 178): 112517216,\n",
              "         (89, 89, 89): 5880312,\n",
              "         (1, 1, 1): 19587968,\n",
              "         (246, 246, 246): 133196,\n",
              "         (136, 136, 136): 129836,\n",
              "         (234, 234, 234): 3406,\n",
              "         (131, 131, 131): 33660,\n",
              "         (20, 20, 20): 3441,\n",
              "         (125, 125, 125): 33707,\n",
              "         (8, 8, 8): 133406,\n",
              "         (119, 119, 119): 261794,\n",
              "         (37, 37, 37): 19169012,\n",
              "         (5, 5, 5): 105687,\n",
              "         (243, 243, 243): 110932,\n",
              "         (252, 252, 252): 16866,\n",
              "         (249, 249, 249): 108333,\n",
              "         (133, 133, 133): 1316,\n",
              "         (122, 122, 122): 29351,\n",
              "         (116, 116, 116): 25790,\n",
              "         (11, 11, 11): 4368340,\n",
              "         (2, 2, 2): 207308,\n",
              "         (14, 14, 14): 512,\n",
              "         (134, 134, 134): 28082,\n",
              "         (228, 228, 228): 170288,\n",
              "         (139, 139, 139): 25790,\n",
              "         (26, 26, 26): 5871104,\n",
              "         (240, 240, 240): 512,\n",
              "         (225, 225, 225): 1865,\n",
              "         (29, 29, 29): 4098,\n",
              "         (39, 39, 39): 6096384,\n",
              "         (191, 191, 191): 7406784,\n",
              "         (166, 166, 166): 5779704,\n",
              "         (16, 16, 16): 530460,\n",
              "         (22, 22, 22): 170604,\n",
              "         (137, 137, 137): 131300,\n",
              "         (221, 221, 221): 2007780,\n",
              "         (177, 177, 177): 11716096,\n",
              "         (232, 232, 232): 1258866,\n",
              "         (12, 12, 12): 160704,\n",
              "         (165, 165, 165): 308448,\n",
              "         (161, 161, 161): 4284,\n",
              "         (18, 18, 18): 298080,\n",
              "         (24, 24, 24): 4140,\n",
              "         (190, 190, 190): 164592,\n",
              "         (194, 194, 194): 2286,\n",
              "         (77, 77, 77): 6573056,\n",
              "         (215, 215, 215): 12769792,\n",
              "         (242, 242, 242): 4114432,\n",
              "         (25, 25, 25): 169776,\n",
              "         (21, 21, 21): 2358,\n",
              "         (204, 204, 204): 3537408,\n",
              "         (151, 151, 151): 5870592,\n",
              "         (244, 244, 244): 342954,\n",
              "         (31, 31, 31): 150336,\n",
              "         (222, 222, 222): 150336,\n",
              "         (253, 253, 253): 10104704,\n",
              "         (41, 41, 41): 2088,\n",
              "         (212, 212, 212): 2088,\n",
              "         (217, 217, 217): 6471664,\n",
              "         (50, 50, 50): 154224,\n",
              "         (203, 203, 203): 321408,\n",
              "         (54, 54, 54): 4464,\n",
              "         (199, 199, 199): 4464,\n",
              "         (64, 64, 64): 2935296,\n",
              "         (189, 189, 189): 2935296,\n",
              "         (251, 251, 251): 190512,\n",
              "         (4, 4, 4): 2646,\n",
              "         (49, 49, 49): 3227920,\n",
              "         (124, 124, 124): 3286528})"
            ]
          },
          "execution_count": 32,
          "metadata": {},
          "output_type": "execute_result"
        }
      ],
      "source": [
        "torch_mid_fill_counter"
      ]
    },
    {
      "cell_type": "code",
      "execution_count": null,
      "metadata": {
        "colab": {
          "background_save": true
        },
        "id": "DgJaoSoXBJ2-",
        "outputId": "d7919bb6-4b96-4062-9543-84527859db0d"
      },
      "outputs": [
        {
          "data": {
            "image/png": "[encoded data removed]",
            "text/plain": [
              "<Figure size 640x480 with 1 Axes>"
            ]
          },
          "metadata": {},
          "output_type": "display_data"
        }
      ],
      "source": [
        "plt.bar(range(1, 255), [torch_mid_fill_counter[(i, i, i)] for i in range(1, 255)])\n",
        "plt.show()"
      ]
    },
    {
      "cell_type": "code",
      "execution_count": null,
      "metadata": {
        "colab": {
          "background_save": true
        },
        "id": "-hBZyZMvBbnJ"
      },
      "outputs": [],
      "source": []
    }
  ],
  "metadata": {
    "colab": {
      "provenance": []
    },
    "kernelspec": {
      "display_name": "Python 3",
      "name": "python3"
    },
    "language_info": {
      "name": "python"
    }
  },
  "nbformat": 4,
  "nbformat_minor": 0
}